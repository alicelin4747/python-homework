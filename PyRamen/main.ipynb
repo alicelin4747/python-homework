{
 "cells": [
  {
   "cell_type": "code",
   "execution_count": 30,
   "metadata": {},
   "outputs": [
    {
     "name": "stdout",
     "output_type": "stream",
     "text": [
      "spicy miso ramen {'01-count': 9238, '02-revenue': 110856.0, '03-cogs': 46190.0, '04-profit': 64666.0}\n",
      "tori paitan ramen {'01-count': 9156, '02-revenue': 119028.0, '03-cogs': 54936.0, '04-profit': 64092.0}\n",
      "truffle butter ramen {'01-count': 8982, '02-revenue': 125748.0, '03-cogs': 62874.0, '04-profit': 62874.0}\n",
      "tonkotsu ramen {'01-count': 9288, '02-revenue': 120744.0, '03-cogs': 55728.0, '04-profit': 65016.0}\n",
      "vegetarian spicy miso {'01-count': 9216, '02-revenue': 110592.0, '03-cogs': 46080.0, '04-profit': 64512.0}\n",
      "shio ramen {'01-count': 9180, '02-revenue': 100980.0, '03-cogs': 45900.0, '04-profit': 55080.0}\n",
      "miso crab ramen {'01-count': 8890, '02-revenue': 106680.0, '03-cogs': 53340.0, '04-profit': 53340.0}\n",
      "nagomi shoyu {'01-count': 9132, '02-revenue': 100452.0, '03-cogs': 45660.0, '04-profit': 54792.0}\n",
      "soft-shell miso crab ramen {'01-count': 9130, '02-revenue': 127820.0, '03-cogs': 63910.0, '04-profit': 63910.0}\n",
      "burnt garlic tonkotsu ramen {'01-count': 9070, '02-revenue': 126980.0, '03-cogs': 54420.0, '04-profit': 72560.0}\n",
      "vegetarian curry + king trumpet mushroom ramen {'01-count': 8824, '02-revenue': 114712.0, '03-cogs': 61768.0, '04-profit': 52944.0}\n"
     ]
    }
   ],
   "source": [
    "\"\"\"PyRamen Solution\"\"\"\n",
    "\n",
    "# Import libraries\n",
    "\n",
    "import json\n",
    "import csv\n",
    "from pathlib import Path\n",
    "\n",
    "# Set file paths for menu_data.csv and sales_data.csv\n",
    "menu_filepath = Path('Resource/menu_data.csv')\n",
    "sales_filepath = Path('Resource/sales_data.csv')\n",
    "output_path = Path('output.txt')\n",
    "\n",
    "# Set variables\n",
    "cost = {}\n",
    "price = {}\n",
    "report = {}\n",
    "quantity = {}\n",
    "\n",
    "# open menu file as csv and assign variables for each column after header\n",
    "with open (menu_filepath, newline = '') as csvfile:\n",
    "    menu_reader = csv.DictReader(csvfile)\n",
    "    \n",
    "    for row in menu_reader:\n",
    "        item = row['item']\n",
    "        price[item] = float(row['price'])\n",
    "        cost[item] = float(row['cost'])\n",
    "\n",
    "# open sales file as csv and assign vriables for each column after header\n",
    "with open (sales_filepath, newline = '') as csvfile:\n",
    "    sales_reader = csv.DictReader(csvfile)\n",
    "\n",
    "    for row in sales_reader:\n",
    "        menu_item = row['Menu_Item']\n",
    "        quantity[menu_item] = int(row['Quantity']) + quantity.get(menu_item, 0)\n",
    "\n",
    "# Perform report\n",
    "for k, v in quantity.items():\n",
    "    count = v\n",
    "    revenue = price[k] * v\n",
    "    cogs = cost[k] * v\n",
    "    profit = revenue - cogs\n",
    "    report['01-count'] = count\n",
    "    report['02-revenue'] = revenue\n",
    "    report['03-cogs'] = cogs\n",
    "    report['04-profit'] = profit\n",
    "    \n",
    "    print(f'{k} {report}')\n",
    "\n",
    "# Open the output path as a file object\n",
    "with open(output_path, 'w') as text_file:\n",
    "    for k, v in quantity.items():\n",
    "        text_file.write(str(k) + \" \" + str(report))\n",
    "        text_file.write(\"\\n\")\n",
    "text_file.close()\n"
   ]
  },
  {
   "cell_type": "code",
   "execution_count": null,
   "metadata": {},
   "outputs": [],
   "source": []
  }
 ],
 "metadata": {
  "kernelspec": {
   "display_name": "Python 3",
   "language": "python",
   "name": "python3"
  },
  "language_info": {
   "codemirror_mode": {
    "name": "ipython",
    "version": 3
   },
   "file_extension": ".py",
   "mimetype": "text/x-python",
   "name": "python",
   "nbconvert_exporter": "python",
   "pygments_lexer": "ipython3",
   "version": "3.7.9"
  }
 },
 "nbformat": 4,
 "nbformat_minor": 4
}
