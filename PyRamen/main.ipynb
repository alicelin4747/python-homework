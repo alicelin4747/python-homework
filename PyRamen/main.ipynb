{
 "cells": [
  {
   "cell_type": "code",
   "execution_count": 90,
   "metadata": {},
   "outputs": [
    {
     "name": "stdout",
     "output_type": "stream",
     "text": [
      "spicy miso ramen {'count': 9238, 'revenue': 110856.0, 'cogs': 46190.0, 'profit': 64666.0}\n",
      "tori paitan ramen {'count': 9156, 'revenue': 119028.0, 'cogs': 54936.0, 'profit': 64092.0}\n",
      "truffle butter ramen {'count': 8982, 'revenue': 125748.0, 'cogs': 62874.0, 'profit': 62874.0}\n",
      "tonkotsu ramen {'count': 9288, 'revenue': 120744.0, 'cogs': 55728.0, 'profit': 65016.0}\n",
      "vegetarian spicy miso {'count': 9216, 'revenue': 110592.0, 'cogs': 46080.0, 'profit': 64512.0}\n",
      "shio ramen {'count': 9180, 'revenue': 100980.0, 'cogs': 45900.0, 'profit': 55080.0}\n",
      "miso crab ramen {'count': 8890, 'revenue': 106680.0, 'cogs': 53340.0, 'profit': 53340.0}\n",
      "nagomi shoyu {'count': 9132, 'revenue': 100452.0, 'cogs': 45660.0, 'profit': 54792.0}\n",
      "soft-shell miso crab ramen {'count': 9130, 'revenue': 127820.0, 'cogs': 63910.0, 'profit': 63910.0}\n",
      "burnt garlic tonkotsu ramen {'count': 9070, 'revenue': 126980.0, 'cogs': 54420.0, 'profit': 72560.0}\n",
      "vegetarian curry + king trumpet mushroom ramen {'count': 8824, 'revenue': 114712.0, 'cogs': 61768.0, 'profit': 52944.0}\n"
     ]
    }
   ],
   "source": [
    "\"\"\"PyRamen Solution\"\"\"\n",
    "\n",
    "# Import libraries\n",
    "\n",
    "import csv\n",
    "from pathlib import Path\n",
    "\n",
    "# Set file paths for menu_data.csv and sales_data.csv\n",
    "menu_filepath = Path('Resource/menu_data.csv')\n",
    "sales_filepath = Path('Resource/sales_data.csv')\n",
    "\n",
    "# Set variables\n",
    "cost = {}\n",
    "price = {}\n",
    "report = {}\n",
    "quantity = {}\n",
    "\n",
    "# open menu file as csv and assign variables for each column after header\n",
    "with open (menu_filepath, newline = '') as csvfile:\n",
    "    #menu_csvreader = csv.reader(csvfile, delimiter = \",\")\n",
    "    \n",
    "    reader = csv.DictReader(csvfile)\n",
    "    #menu_header = next(menu_csvreader)\n",
    "    \n",
    "    for row in reader:\n",
    "        item = row['item']\n",
    "        price[item] = float(row['price'])\n",
    "        cost[item] = float(row['cost'])\n",
    "\n",
    "# open sales file as csv and assign vriables for each column after header\n",
    "with open (sales_filepath, 'r') as csvfile:\n",
    "    sales_csvreader = csv.reader(csvfile, delimiter = \",\")\n",
    "    sales_header = next(sales_csvreader)\n",
    "\n",
    "    for row in sales_csvreader:\n",
    "        menu_item = row[4]\n",
    "        quantity[menu_item] = int(row[3]) + quantity.get(menu_item, 0)\n",
    "\n",
    "# Perform calculations\n",
    "for k, v in quantity.items():\n",
    "    count = v\n",
    "    revenue = price[k] * v\n",
    "    cogs = cost[k] * v\n",
    "    profit = revenue - cogs\n",
    "    report['count'] = count\n",
    "    report['revenue'] = revenue\n",
    "    report['cogs'] = cogs\n",
    "    report['profit'] = profit\n",
    "    \n",
    "    print(f'{k} {report}')\n"
   ]
  },
  {
   "cell_type": "code",
   "execution_count": null,
   "metadata": {},
   "outputs": [],
   "source": []
  }
 ],
 "metadata": {
  "kernelspec": {
   "display_name": "Python 3",
   "language": "python",
   "name": "python3"
  },
  "language_info": {
   "codemirror_mode": {
    "name": "ipython",
    "version": 3
   },
   "file_extension": ".py",
   "mimetype": "text/x-python",
   "name": "python",
   "nbconvert_exporter": "python",
   "pygments_lexer": "ipython3",
   "version": "3.7.9"
  }
 },
 "nbformat": 4,
 "nbformat_minor": 4
}
